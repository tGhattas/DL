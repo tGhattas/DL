{
  "nbformat": 4,
  "nbformat_minor": 0,
  "metadata": {
    "accelerator": "GPU",
    "colab": {
      "name": "DL-HW1.ipynb",
      "provenance": [],
      "collapsed_sections": [],
      "include_colab_link": true
    },
    "kernelspec": {
      "display_name": "Python 3",
      "name": "python3"
    }
  },
  "cells": [
    {
      "cell_type": "markdown",
      "metadata": {
        "id": "view-in-github",
        "colab_type": "text"
      },
      "source": [
        "<a href=\"https://colab.research.google.com/github/tGhattas/DL/blob/master/DL_HW1.ipynb\" target=\"_parent\"><img src=\"https://colab.research.google.com/assets/colab-badge.svg\" alt=\"Open In Colab\"/></a>"
      ]
    },
    {
      "cell_type": "code",
      "metadata": {
        "id": "MxQoSaljMnKE"
      },
      "source": [
        "# !pip install --upgrade pip\n",
        "# !pip install tensorflow"
      ],
      "execution_count": null,
      "outputs": []
    },
    {
      "cell_type": "code",
      "metadata": {
        "colab": {
          "base_uri": "https://localhost:8080/"
        },
        "id": "x0RoMl73Mos2",
        "outputId": "761fdd08-4d7a-4495-cd37-4f1e2828fcf6"
      },
      "source": [
        "from google.colab import drive\n",
        "drive.mount('/content/drive', force_remount=True)\n",
        "\n",
        "import os\n",
        "main_folder = \"/content/drive/MyDrive/Colab Notebooks/DL-HW1\"\n",
        "os.makedirs(main_folder, exist_ok=True)\n",
        "os.chdir(main_folder)"
      ],
      "execution_count": 1,
      "outputs": [
        {
          "output_type": "stream",
          "text": [
            "Mounted at /content/drive\n"
          ],
          "name": "stdout"
        }
      ]
    },
    {
      "cell_type": "code",
      "metadata": {
        "colab": {
          "base_uri": "https://localhost:8080/"
        },
        "id": "CuCuna_xIwCu",
        "outputId": "8f5cda27-e82d-4801-85eb-bdd415f9ca4c"
      },
      "source": [
        "!pwd"
      ],
      "execution_count": 11,
      "outputs": [
        {
          "output_type": "stream",
          "text": [
            "/content/drive/My Drive/Colab Notebooks/DL-HW1/DL/DL-HW1\n"
          ],
          "name": "stdout"
        }
      ]
    },
    {
      "cell_type": "code",
      "metadata": {
        "id": "mNrh20IaMr5j"
      },
      "source": [
        "# ! git clone https://github.com/tGhattas/DL.git"
      ],
      "execution_count": null,
      "outputs": []
    },
    {
      "cell_type": "code",
      "metadata": {
        "id": "uuOLnwh6X6eB"
      },
      "source": [
        "try:\n",
        "  os.chdir(\"./DL/DL-HW1\")\n",
        "except:\n",
        "  print(\"warning: git folder was not loaded\")"
      ],
      "execution_count": 2,
      "outputs": []
    },
    {
      "cell_type": "code",
      "metadata": {
        "id": "1VlaEltgMwtL"
      },
      "source": [
        "!git reset --hard\n",
        "!git pull"
      ],
      "execution_count": null,
      "outputs": []
    },
    {
      "cell_type": "code",
      "metadata": {
        "id": "fX2BHOqMKsxH"
      },
      "source": [
        "# !git add models.py train.py"
      ],
      "execution_count": null,
      "outputs": []
    },
    {
      "cell_type": "code",
      "metadata": {
        "id": "43rwtnifKyPt"
      },
      "source": [
        "#!git commit -m \"from colab 1\"\n",
        "# !git push"
      ],
      "execution_count": null,
      "outputs": []
    },
    {
      "cell_type": "code",
      "metadata": {
        "id": "0trJmd6DjqBZ"
      },
      "source": [
        "import tensorflow as tf\n",
        "from tensorflow.keras.layers import Dense, Flatten, Conv2D\n",
        "from tensorflow.keras import Model\n",
        "from data import prepare_data"
      ],
      "execution_count": 3,
      "outputs": []
    },
    {
      "cell_type": "code",
      "metadata": {
        "id": "h3IKyzTCDNGo"
      },
      "source": [
        "from train import train\n",
        "from models import *"
      ],
      "execution_count": 4,
      "outputs": []
    },
    {
      "cell_type": "code",
      "metadata": {
        "id": "u2tuvEovR2tC"
      },
      "source": [
        "with tf.device('/device:GPU:0'):\n",
        "  for epochs_number in (10, 100, 1000):\n",
        "    for model in all_models:\n",
        "      df = train(epochs_number, model)\n",
        "      csv = df.to_csv()\n",
        "      with open(f'./csv/{model.name}_{epochs_number}.csv', 'w') as f:\n",
        "        f.write(csv)\n"
      ],
      "execution_count": null,
      "outputs": []
    },
    {
      "cell_type": "code",
      "metadata": {
        "id": "UBPsUG0fZUdn"
      },
      "source": [
        "MLP_narrow.name"
      ],
      "execution_count": null,
      "outputs": []
    }
  ]
}