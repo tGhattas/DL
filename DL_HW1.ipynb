{
  "nbformat": 4,
  "nbformat_minor": 0,
  "metadata": {
    "accelerator": "GPU",
    "colab": {
      "name": "DL-HW1.ipynb",
      "provenance": [],
      "collapsed_sections": [],
      "toc_visible": true,
      "include_colab_link": true
    },
    "kernelspec": {
      "display_name": "Python 3",
      "name": "python3"
    }
  },
  "cells": [
    {
      "cell_type": "markdown",
      "metadata": {
        "id": "view-in-github",
        "colab_type": "text"
      },
      "source": [
        "<a href=\"https://colab.research.google.com/github/tGhattas/DL/blob/master/DL_HW1.ipynb\" target=\"_parent\"><img src=\"https://colab.research.google.com/assets/colab-badge.svg\" alt=\"Open In Colab\"/></a>"
      ]
    },
    {
      "cell_type": "code",
      "metadata": {
        "id": "MxQoSaljMnKE"
      },
      "source": [
        "# !pip install --upgrade pip\n",
        "# !pip install tensorflow"
      ],
      "execution_count": 1,
      "outputs": []
    },
    {
      "cell_type": "code",
      "metadata": {
        "colab": {
          "base_uri": "https://localhost:8080/"
        },
        "id": "x0RoMl73Mos2",
        "outputId": "68abc7da-a008-4731-ee30-52bf8b39089a"
      },
      "source": [
        "from google.colab import drive\n",
        "drive.mount('/content/drive', force_remount=True)\n",
        "\n",
        "import os\n",
        "main_folder = \"/content/drive/MyDrive/Colab Notebooks/DL-HW1\"\n",
        "os.makedirs(main_folder, exist_ok=True)\n",
        "os.chdir(main_folder)"
      ],
      "execution_count": 2,
      "outputs": [
        {
          "output_type": "stream",
          "text": [
            "Mounted at /content/drive\n"
          ],
          "name": "stdout"
        }
      ]
    },
    {
      "cell_type": "code",
      "metadata": {
        "id": "CuCuna_xIwCu",
        "colab": {
          "base_uri": "https://localhost:8080/"
        },
        "outputId": "be50cab8-aa1e-4345-ee94-ad67167a05ad"
      },
      "source": [
        "!pwd"
      ],
      "execution_count": 3,
      "outputs": [
        {
          "output_type": "stream",
          "text": [
            "/content/drive/MyDrive/Colab Notebooks/DL-HW1\n"
          ],
          "name": "stdout"
        }
      ]
    },
    {
      "cell_type": "code",
      "metadata": {
        "id": "mNrh20IaMr5j"
      },
      "source": [
        "# ! git clone https://github.com/tGhattas/DL.git"
      ],
      "execution_count": 4,
      "outputs": []
    },
    {
      "cell_type": "code",
      "metadata": {
        "id": "uuOLnwh6X6eB"
      },
      "source": [
        "try:\n",
        "  os.chdir(\"./DL/DL-HW1\")\n",
        "except:\n",
        "  print(\"warning: git folder was not loaded\")"
      ],
      "execution_count": 5,
      "outputs": []
    },
    {
      "cell_type": "code",
      "metadata": {
        "id": "1VlaEltgMwtL",
        "colab": {
          "base_uri": "https://localhost:8080/"
        },
        "outputId": "f9669628-67ec-4e19-a148-b005556f9779"
      },
      "source": [
        "!git reset --hard\n",
        "!git pull"
      ],
      "execution_count": 6,
      "outputs": [
        {
          "output_type": "stream",
          "text": [
            "HEAD is now at d36a599 model refac\n",
            "Already up to date.\n"
          ],
          "name": "stdout"
        }
      ]
    },
    {
      "cell_type": "markdown",
      "metadata": {
        "id": "QS7DDTiZGRTo"
      },
      "source": [
        "Import TensorFlow into your program:"
      ]
    },
    {
      "cell_type": "code",
      "metadata": {
        "id": "0trJmd6DjqBZ"
      },
      "source": [
        "import tensorflow as tf\n",
        "from tensorflow.keras.layers import Dense, Flatten, Conv2D\n",
        "from tensorflow.keras import Model\n",
        "from data import prepare_data"
      ],
      "execution_count": 7,
      "outputs": []
    },
    {
      "cell_type": "code",
      "metadata": {
        "id": "JqFRS6K07jJs"
      },
      "source": [
        "(x_train, y_train), (x_test, y_test) = prepare_data()\n"
      ],
      "execution_count": 8,
      "outputs": []
    },
    {
      "cell_type": "markdown",
      "metadata": {
        "id": "k1Evqx0S22r_"
      },
      "source": [
        "Use `tf.data` to batch and shuffle the dataset:"
      ]
    },
    {
      "cell_type": "code",
      "metadata": {
        "id": "8Iu_quO024c2"
      },
      "source": [
        "train_ds = tf.data.Dataset.from_tensor_slices((x_train, y_train)).shuffle(10000).batch(32)\n",
        "\n",
        "test_ds = tf.data.Dataset.from_tensor_slices((x_test, y_test)).batch(32)"
      ],
      "execution_count": 9,
      "outputs": []
    },
    {
      "cell_type": "markdown",
      "metadata": {
        "id": "BPZ68wASog_I"
      },
      "source": [
        "Build the `tf.keras` model using the Keras [model subclassing API](https://www.tensorflow.org/guide/keras#model_subclassing):"
      ]
    },
    {
      "cell_type": "code",
      "metadata": {
        "id": "h3IKyzTCDNGo"
      },
      "source": [
        "from models import MLP\n",
        "model = MLP()"
      ],
      "execution_count": 10,
      "outputs": []
    },
    {
      "cell_type": "markdown",
      "metadata": {
        "id": "uGih-c2LgbJu"
      },
      "source": [
        "Choose an optimizer and loss function for training: "
      ]
    },
    {
      "cell_type": "code",
      "metadata": {
        "id": "u48C9WQ774n4"
      },
      "source": [
        "loss_object = tf.keras.losses.SparseCategoricalCrossentropy(from_logits=True)\n",
        "optimizer = tf.keras.optimizers.Adam()"
      ],
      "execution_count": 11,
      "outputs": []
    },
    {
      "cell_type": "markdown",
      "metadata": {
        "id": "JB6A1vcigsIe"
      },
      "source": [
        "Select metrics to measure the loss and the accuracy of the model. These metrics accumulate the values over epochs and then print the overall result."
      ]
    },
    {
      "cell_type": "code",
      "metadata": {
        "id": "N0MqHFb4F_qn"
      },
      "source": [
        "train_loss = tf.keras.metrics.Mean(name='train_loss')\n",
        "train_accuracy = tf.keras.metrics.SparseCategoricalAccuracy(name='train_accuracy')\n",
        "\n",
        "test_loss = tf.keras.metrics.Mean(name='test_loss')\n",
        "test_accuracy = tf.keras.metrics.SparseCategoricalAccuracy(name='test_accuracy')"
      ],
      "execution_count": 12,
      "outputs": []
    },
    {
      "cell_type": "markdown",
      "metadata": {
        "id": "ix4mEL65on-w"
      },
      "source": [
        "Use `tf.GradientTape` to train the model:"
      ]
    },
    {
      "cell_type": "code",
      "metadata": {
        "id": "OZACiVqA8KQV"
      },
      "source": [
        "@tf.function\n",
        "def train_step(peptides, labels):\n",
        "  with tf.GradientTape() as tape:\n",
        "    # training=True is only needed if there are layers with different\n",
        "    # behavior during training versus inference (e.g. Dropout).\n",
        "    predictions = model(peptides, training=True)\n",
        "    loss = loss_object(labels, predictions)\n",
        "  gradients = tape.gradient(loss, model.trainable_variables)\n",
        "  optimizer.apply_gradients(zip(gradients, model.trainable_variables))\n",
        "\n",
        "  train_loss(loss)\n",
        "  train_accuracy(labels, predictions)"
      ],
      "execution_count": 13,
      "outputs": []
    },
    {
      "cell_type": "markdown",
      "metadata": {
        "id": "Z8YT7UmFgpjV"
      },
      "source": [
        "Test the model:"
      ]
    },
    {
      "cell_type": "code",
      "metadata": {
        "id": "xIKdEzHAJGt7"
      },
      "source": [
        "@tf.function\n",
        "def test_step(peptides, labels):\n",
        "  # training=False is only needed if there are layers with different\n",
        "  # behavior during training versus inference (e.g. Dropout).\n",
        "  predictions = model(peptides, training=False)\n",
        "  t_loss = loss_object(labels, predictions)\n",
        "\n",
        "  test_loss(t_loss)\n",
        "  test_accuracy(labels, predictions)"
      ],
      "execution_count": 14,
      "outputs": []
    },
    {
      "cell_type": "code",
      "metadata": {
        "colab": {
          "base_uri": "https://localhost:8080/"
        },
        "id": "i-2pkctU_Ci7",
        "outputId": "f472f851-e5db-4150-90e7-6367c40e8210"
      },
      "source": [
        "EPOCHS = 100\n",
        "\n",
        "for epoch in range(EPOCHS):\n",
        "  # Reset the metrics at the start of the next epoch\n",
        "  train_loss.reset_states()\n",
        "  train_accuracy.reset_states()\n",
        "  test_loss.reset_states()\n",
        "  test_accuracy.reset_states()\n",
        "\n",
        "  for peptides, labels in train_ds:\n",
        "    train_step(peptides, labels)\n",
        "\n",
        "  for test_peptides, test_labels in test_ds:\n",
        "    test_step(test_peptides, test_labels)\n",
        "\n",
        "  print(\n",
        "    f'Epoch {epoch + 1}, '\n",
        "    f'Loss: {train_loss.result()}, '\n",
        "    f'Accuracy: {train_accuracy.result() * 100}, '\n",
        "    f'Test Loss: {test_loss.result()}, '\n",
        "    f'Test Accuracy: {test_accuracy.result() * 100}'\n",
        "  )"
      ],
      "execution_count": 15,
      "outputs": [
        {
          "output_type": "stream",
          "text": [
            "Epoch 1, Loss: 0.4184456765651703, Accuracy: 89.42053985595703, Test Loss: 0.3957914412021637, Test Accuracy: 91.04966735839844\n",
            "Epoch 2, Loss: 0.386785626411438, Accuracy: 92.1859359741211, Test Loss: 0.38700437545776367, Test Accuracy: 92.01382446289062\n",
            "Epoch 3, Loss: 0.373731791973114, Accuracy: 93.78240966796875, Test Loss: 0.38484081625938416, Test Accuracy: 92.28669738769531\n",
            "Epoch 4, Loss: 0.36370405554771423, Accuracy: 94.84671783447266, Test Loss: 0.3836365044116974, Test Accuracy: 92.5413818359375\n",
            "Epoch 5, Loss: 0.35535022616386414, Accuracy: 95.7291030883789, Test Loss: 0.3853078782558441, Test Accuracy: 92.3776626586914\n",
            "Epoch 6, Loss: 0.3489743173122406, Accuracy: 96.4522933959961, Test Loss: 0.38370996713638306, Test Accuracy: 92.77787780761719\n",
            "Epoch 7, Loss: 0.3452564477920532, Accuracy: 96.80706024169922, Test Loss: 0.3881705403327942, Test Accuracy: 92.05020904541016\n",
            "Epoch 8, Loss: 0.34165817499160767, Accuracy: 97.16637420654297, Test Loss: 0.38851454854011536, Test Accuracy: 92.17755126953125\n",
            "Epoch 9, Loss: 0.33896440267562866, Accuracy: 97.43927764892578, Test Loss: 0.3903053104877472, Test Accuracy: 92.06839752197266\n",
            "Epoch 10, Loss: 0.337246298789978, Accuracy: 97.6212158203125, Test Loss: 0.3893686830997467, Test Accuracy: 92.10478973388672\n",
            "Epoch 11, Loss: 0.337659627199173, Accuracy: 97.639404296875, Test Loss: 0.390688955783844, Test Accuracy: 91.99563598632812\n",
            "Epoch 12, Loss: 0.33639833331108093, Accuracy: 97.70307922363281, Test Loss: 0.38913455605506897, Test Accuracy: 92.14116668701172\n",
            "Epoch 13, Loss: 0.336213618516922, Accuracy: 97.69398498535156, Test Loss: 0.39139941334724426, Test Accuracy: 91.88648223876953\n",
            "Epoch 14, Loss: 0.3345576822757721, Accuracy: 97.88501739501953, Test Loss: 0.3890767991542816, Test Accuracy: 92.17755126953125\n",
            "Epoch 15, Loss: 0.33477362990379333, Accuracy: 97.8486328125, Test Loss: 0.3882066607475281, Test Accuracy: 92.28669738769531\n",
            "Epoch 16, Loss: 0.33353424072265625, Accuracy: 97.97599029541016, Test Loss: 0.3877251148223877, Test Accuracy: 92.41404724121094\n",
            "Epoch 17, Loss: 0.3329786956310272, Accuracy: 98.03966522216797, Test Loss: 0.38897788524627686, Test Accuracy: 92.26850891113281\n",
            "Epoch 18, Loss: 0.3340264558792114, Accuracy: 97.93050384521484, Test Loss: 0.38896897435188293, Test Accuracy: 92.28669738769531\n",
            "Epoch 19, Loss: 0.3334631025791168, Accuracy: 97.96234130859375, Test Loss: 0.3884798586368561, Test Accuracy: 92.32308197021484\n",
            "Epoch 20, Loss: 0.33273959159851074, Accuracy: 98.04875946044922, Test Loss: 0.38891029357910156, Test Accuracy: 92.21393585205078\n",
            "Epoch 21, Loss: 0.33295443654060364, Accuracy: 98.03056335449219, Test Loss: 0.3859090209007263, Test Accuracy: 92.6323471069336\n",
            "Epoch 22, Loss: 0.33233967423439026, Accuracy: 98.08969116210938, Test Loss: 0.3900279104709625, Test Accuracy: 92.19573974609375\n",
            "Epoch 23, Loss: 0.3318134546279907, Accuracy: 98.14881896972656, Test Loss: 0.388935387134552, Test Accuracy: 92.23212432861328\n",
            "Epoch 24, Loss: 0.3318156898021698, Accuracy: 98.13517761230469, Test Loss: 0.3902476131916046, Test Accuracy: 92.14116668701172\n",
            "Epoch 25, Loss: 0.33189085125923157, Accuracy: 98.13972473144531, Test Loss: 0.3916242718696594, Test Accuracy: 92.05020904541016\n",
            "Epoch 26, Loss: 0.33293670415878296, Accuracy: 98.03511810302734, Test Loss: 0.3867257535457611, Test Accuracy: 92.5413818359375\n",
            "Epoch 27, Loss: 0.33267128467559814, Accuracy: 98.05330657958984, Test Loss: 0.390596866607666, Test Accuracy: 92.14116668701172\n",
            "Epoch 28, Loss: 0.332004189491272, Accuracy: 98.11243438720703, Test Loss: 0.3894249200820923, Test Accuracy: 92.19573974609375\n",
            "Epoch 29, Loss: 0.33124521374702454, Accuracy: 98.19430541992188, Test Loss: 0.3891671299934387, Test Accuracy: 92.26850891113281\n",
            "Epoch 30, Loss: 0.3310704231262207, Accuracy: 98.21704864501953, Test Loss: 0.3924018442630768, Test Accuracy: 91.88648223876953\n",
            "Epoch 31, Loss: 0.33144015073776245, Accuracy: 98.15792083740234, Test Loss: 0.39041855931282043, Test Accuracy: 92.15936279296875\n",
            "Epoch 32, Loss: 0.3315632939338684, Accuracy: 98.16246795654297, Test Loss: 0.3889091908931732, Test Accuracy: 92.26850891113281\n",
            "Epoch 33, Loss: 0.3312821686267853, Accuracy: 98.1988525390625, Test Loss: 0.3881995677947998, Test Accuracy: 92.41404724121094\n",
            "Epoch 34, Loss: 0.3305039703845978, Accuracy: 98.28072357177734, Test Loss: 0.39107057452201843, Test Accuracy: 92.17755126953125\n",
            "Epoch 35, Loss: 0.33054202795028687, Accuracy: 98.2716293334961, Test Loss: 0.3908754289150238, Test Accuracy: 92.17755126953125\n",
            "Epoch 36, Loss: 0.3305509388446808, Accuracy: 98.26707458496094, Test Loss: 0.3889124095439911, Test Accuracy: 92.25032043457031\n",
            "Epoch 37, Loss: 0.33167555928230286, Accuracy: 98.13517761230469, Test Loss: 0.38920432329177856, Test Accuracy: 92.23212432861328\n",
            "Epoch 38, Loss: 0.331102579832077, Accuracy: 98.21704864501953, Test Loss: 0.3877699077129364, Test Accuracy: 92.46862030029297\n",
            "Epoch 39, Loss: 0.33052223920822144, Accuracy: 98.26707458496094, Test Loss: 0.38826218247413635, Test Accuracy: 92.28669738769531\n",
            "Epoch 40, Loss: 0.3304545283317566, Accuracy: 98.28072357177734, Test Loss: 0.3896753489971161, Test Accuracy: 92.21393585205078\n",
            "Epoch 41, Loss: 0.3311169147491455, Accuracy: 98.20794677734375, Test Loss: 0.38892361521720886, Test Accuracy: 92.32308197021484\n",
            "Epoch 42, Loss: 0.3308572769165039, Accuracy: 98.2306900024414, Test Loss: 0.3906507194042206, Test Accuracy: 92.17755126953125\n",
            "Epoch 43, Loss: 0.33028334379196167, Accuracy: 98.29891967773438, Test Loss: 0.39173468947410583, Test Accuracy: 92.06839752197266\n",
            "Epoch 44, Loss: 0.3300361931324005, Accuracy: 98.31710815429688, Test Loss: 0.3903297185897827, Test Accuracy: 92.19573974609375\n",
            "Epoch 45, Loss: 0.330301433801651, Accuracy: 98.29891967773438, Test Loss: 0.3893696963787079, Test Accuracy: 92.26850891113281\n",
            "Epoch 46, Loss: 0.330363392829895, Accuracy: 98.28982543945312, Test Loss: 0.38779157400131226, Test Accuracy: 92.5050048828125\n",
            "Epoch 47, Loss: 0.33036911487579346, Accuracy: 98.28072357177734, Test Loss: 0.3883679509162903, Test Accuracy: 92.3958511352539\n",
            "Epoch 48, Loss: 0.3303734362125397, Accuracy: 98.28527069091797, Test Loss: 0.3910474181175232, Test Accuracy: 92.12297821044922\n",
            "Epoch 49, Loss: 0.33050909638404846, Accuracy: 98.26252746582031, Test Loss: 0.38969630002975464, Test Accuracy: 92.26850891113281\n",
            "Epoch 50, Loss: 0.33045825362205505, Accuracy: 98.26707458496094, Test Loss: 0.3942878544330597, Test Accuracy: 91.75914001464844\n",
            "Epoch 51, Loss: 0.331259548664093, Accuracy: 98.26707458496094, Test Loss: 0.3896363377571106, Test Accuracy: 92.23212432861328\n",
            "Epoch 52, Loss: 0.32980871200561523, Accuracy: 98.34440612792969, Test Loss: 0.39177432656288147, Test Accuracy: 92.01382446289062\n",
            "Epoch 53, Loss: 0.3298448920249939, Accuracy: 98.34440612792969, Test Loss: 0.3904552459716797, Test Accuracy: 92.17755126953125\n",
            "Epoch 54, Loss: 0.32988089323043823, Accuracy: 98.33075714111328, Test Loss: 0.3907058537006378, Test Accuracy: 92.14116668701172\n",
            "Epoch 55, Loss: 0.33096009492874146, Accuracy: 98.21704864501953, Test Loss: 0.39113572239875793, Test Accuracy: 92.21393585205078\n",
            "Epoch 56, Loss: 0.3299182653427124, Accuracy: 98.33075714111328, Test Loss: 0.39136865735054016, Test Accuracy: 92.10478973388672\n",
            "Epoch 57, Loss: 0.3299042582511902, Accuracy: 98.3353042602539, Test Loss: 0.3886389136314392, Test Accuracy: 92.3776626586914\n",
            "Epoch 58, Loss: 0.32966411113739014, Accuracy: 98.35804748535156, Test Loss: 0.39027175307273865, Test Accuracy: 92.21393585205078\n",
            "Epoch 59, Loss: 0.3299676179885864, Accuracy: 98.31256103515625, Test Loss: 0.39009514451026917, Test Accuracy: 92.21393585205078\n",
            "Epoch 60, Loss: 0.32965004444122314, Accuracy: 98.35804748535156, Test Loss: 0.38958483934402466, Test Accuracy: 92.32308197021484\n",
            "Epoch 61, Loss: 0.3296208381652832, Accuracy: 98.36259460449219, Test Loss: 0.38940075039863586, Test Accuracy: 92.28669738769531\n",
            "Epoch 62, Loss: 0.3294430077075958, Accuracy: 98.38078308105469, Test Loss: 0.3890036642551422, Test Accuracy: 92.30489349365234\n",
            "Epoch 63, Loss: 0.32921352982521057, Accuracy: 98.40353393554688, Test Loss: 0.390612930059433, Test Accuracy: 92.23212432861328\n",
            "Epoch 64, Loss: 0.32977673411369324, Accuracy: 98.34895324707031, Test Loss: 0.3904597759246826, Test Accuracy: 92.19573974609375\n",
            "Epoch 65, Loss: 0.3303087055683136, Accuracy: 98.28527069091797, Test Loss: 0.389651894569397, Test Accuracy: 92.30489349365234\n",
            "Epoch 66, Loss: 0.3299717903137207, Accuracy: 98.31710815429688, Test Loss: 0.38944414258003235, Test Accuracy: 92.23212432861328\n",
            "Epoch 67, Loss: 0.3296060264110565, Accuracy: 98.36714172363281, Test Loss: 0.3892073631286621, Test Accuracy: 92.3958511352539\n",
            "Epoch 68, Loss: 0.32939204573631287, Accuracy: 98.38533020019531, Test Loss: 0.3895418345928192, Test Accuracy: 92.26850891113281\n",
            "Epoch 69, Loss: 0.32948940992355347, Accuracy: 98.37168884277344, Test Loss: 0.38906314969062805, Test Accuracy: 92.41404724121094\n",
            "Epoch 70, Loss: 0.3292701542377472, Accuracy: 98.39898681640625, Test Loss: 0.38836467266082764, Test Accuracy: 92.41404724121094\n",
            "Epoch 71, Loss: 0.3292231857776642, Accuracy: 98.40353393554688, Test Loss: 0.38983801007270813, Test Accuracy: 92.28669738769531\n",
            "Epoch 72, Loss: 0.3292146325111389, Accuracy: 98.40353393554688, Test Loss: 0.38929101824760437, Test Accuracy: 92.32308197021484\n",
            "Epoch 73, Loss: 0.3290696144104004, Accuracy: 98.41717529296875, Test Loss: 0.38926661014556885, Test Accuracy: 92.41404724121094\n",
            "Epoch 74, Loss: 0.3290694057941437, Accuracy: 98.41717529296875, Test Loss: 0.38927099108695984, Test Accuracy: 92.34127807617188\n",
            "Epoch 75, Loss: 0.3290694057941437, Accuracy: 98.41717529296875, Test Loss: 0.3892759680747986, Test Accuracy: 92.32308197021484\n",
            "Epoch 76, Loss: 0.3290694057941437, Accuracy: 98.41717529296875, Test Loss: 0.3892814815044403, Test Accuracy: 92.34127807617188\n",
            "Epoch 77, Loss: 0.3290694057941437, Accuracy: 98.41717529296875, Test Loss: 0.3892911374568939, Test Accuracy: 92.32308197021484\n",
            "Epoch 78, Loss: 0.3290694057941437, Accuracy: 98.41717529296875, Test Loss: 0.3893054723739624, Test Accuracy: 92.34127807617188\n",
            "Epoch 79, Loss: 0.3290694057941437, Accuracy: 98.41717529296875, Test Loss: 0.38932427763938904, Test Accuracy: 92.32308197021484\n",
            "Epoch 80, Loss: 0.3290694057941437, Accuracy: 98.41717529296875, Test Loss: 0.38934126496315, Test Accuracy: 92.30489349365234\n",
            "Epoch 81, Loss: 0.3290694057941437, Accuracy: 98.41717529296875, Test Loss: 0.38935214281082153, Test Accuracy: 92.32308197021484\n",
            "Epoch 82, Loss: 0.3290694057941437, Accuracy: 98.41717529296875, Test Loss: 0.38936617970466614, Test Accuracy: 92.28669738769531\n",
            "Epoch 83, Loss: 0.3290694057941437, Accuracy: 98.41717529296875, Test Loss: 0.38936468958854675, Test Accuracy: 92.30489349365234\n",
            "Epoch 84, Loss: 0.3290694057941437, Accuracy: 98.41717529296875, Test Loss: 0.3893672525882721, Test Accuracy: 92.26850891113281\n",
            "Epoch 85, Loss: 0.3290694057941437, Accuracy: 98.41717529296875, Test Loss: 0.3893589973449707, Test Accuracy: 92.26850891113281\n",
            "Epoch 86, Loss: 0.3290694057941437, Accuracy: 98.41717529296875, Test Loss: 0.3893449604511261, Test Accuracy: 92.26850891113281\n",
            "Epoch 87, Loss: 0.3290694057941437, Accuracy: 98.41717529296875, Test Loss: 0.38932928442955017, Test Accuracy: 92.26850891113281\n",
            "Epoch 88, Loss: 0.3290694057941437, Accuracy: 98.41717529296875, Test Loss: 0.38931354880332947, Test Accuracy: 92.30489349365234\n",
            "Epoch 89, Loss: 0.3290694057941437, Accuracy: 98.41717529296875, Test Loss: 0.3892956078052521, Test Accuracy: 92.30489349365234\n",
            "Epoch 90, Loss: 0.3290694057941437, Accuracy: 98.41717529296875, Test Loss: 0.38927406072616577, Test Accuracy: 92.28669738769531\n",
            "Epoch 91, Loss: 0.3290694057941437, Accuracy: 98.41717529296875, Test Loss: 0.3892548084259033, Test Accuracy: 92.32308197021484\n",
            "Epoch 92, Loss: 0.3290694057941437, Accuracy: 98.41717529296875, Test Loss: 0.38923144340515137, Test Accuracy: 92.32308197021484\n",
            "Epoch 93, Loss: 0.3290694057941437, Accuracy: 98.41717529296875, Test Loss: 0.3892020285129547, Test Accuracy: 92.3594741821289\n",
            "Epoch 94, Loss: 0.3290694057941437, Accuracy: 98.41717529296875, Test Loss: 0.38917702436447144, Test Accuracy: 92.3594741821289\n",
            "Epoch 95, Loss: 0.3290694057941437, Accuracy: 98.41717529296875, Test Loss: 0.3891286253929138, Test Accuracy: 92.3594741821289\n",
            "Epoch 96, Loss: 0.3290694057941437, Accuracy: 98.41717529296875, Test Loss: 0.38907259702682495, Test Accuracy: 92.30489349365234\n",
            "Epoch 97, Loss: 0.3290694057941437, Accuracy: 98.41717529296875, Test Loss: 0.38901737332344055, Test Accuracy: 92.28669738769531\n",
            "Epoch 98, Loss: 0.3290694057941437, Accuracy: 98.41717529296875, Test Loss: 0.3889484405517578, Test Accuracy: 92.26850891113281\n",
            "Epoch 99, Loss: 0.3290694057941437, Accuracy: 98.41717529296875, Test Loss: 0.3888784945011139, Test Accuracy: 92.26850891113281\n",
            "Epoch 100, Loss: 0.3290694057941437, Accuracy: 98.41717529296875, Test Loss: 0.38882002234458923, Test Accuracy: 92.26850891113281\n"
          ],
          "name": "stdout"
        }
      ]
    }
  ]
}